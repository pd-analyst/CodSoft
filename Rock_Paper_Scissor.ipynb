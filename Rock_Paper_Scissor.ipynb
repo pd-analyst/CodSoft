{
  "nbformat": 4,
  "nbformat_minor": 0,
  "metadata": {
    "colab": {
      "provenance": [],
      "authorship_tag": "ABX9TyMfDl8pUDDeg1pWlglXU155",
      "include_colab_link": true
    },
    "kernelspec": {
      "name": "python3",
      "display_name": "Python 3"
    },
    "language_info": {
      "name": "python"
    }
  },
  "cells": [
    {
      "cell_type": "markdown",
      "metadata": {
        "id": "view-in-github",
        "colab_type": "text"
      },
      "source": [
        "<a href=\"https://colab.research.google.com/github/pd-analyst/CodSoft/blob/main/Rock_Paper_Scissor.ipynb\" target=\"_parent\"><img src=\"https://colab.research.google.com/assets/colab-badge.svg\" alt=\"Open In Colab\"/></a>"
      ]
    },
    {
      "cell_type": "code",
      "execution_count": 1,
      "metadata": {
        "id": "pvxpryoqJ9PF"
      },
      "outputs": [],
      "source": [
        "import random"
      ]
    },
    {
      "cell_type": "code",
      "source": [
        "user_choice = int(input(\"Enter your choice: Types 0 for Rock, 1 for Paper and 2 for Scissors: \"))\n",
        "if user_choice >=3 or user_choice <0:\n",
        "  print(\"You entered invalid number\")\n",
        "else:\n",
        "  computer_choice = random. randint(0,2)\n",
        "  print(\"Computer Chose:\")\n",
        "  print(computer_choice)\n",
        "  if(computer_choice == user_choice):\n",
        "    print(\"It's a tie\")\n",
        "  elif computer_choice == 0 and user_choice ==2:\n",
        "    print(\"You lose\")\n",
        "  elif computer_choice == 2 and user_choice == 0:\n",
        "    print(\"You win\")\n",
        "  elif computer_choice>user_choice:\n",
        "    print(\"You lose\")\n",
        "  elif user_choice > computer_choice:\n",
        "    print(\"You win\")\n"
      ],
      "metadata": {
        "colab": {
          "base_uri": "https://localhost:8080/"
        },
        "id": "JOE1gG2nwytN",
        "outputId": "3c737749-a58e-49af-d28c-1053d8e507bf"
      },
      "execution_count": 23,
      "outputs": [
        {
          "output_type": "stream",
          "name": "stdout",
          "text": [
            "Enter your choice: Types 0 for Rock, 1 for Paper and 2 for Scissors: 5\n",
            "You entered invalid number\n"
          ]
        }
      ]
    }
  ]
}